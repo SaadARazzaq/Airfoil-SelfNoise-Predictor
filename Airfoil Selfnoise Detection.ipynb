{
  "nbformat": 4,
  "nbformat_minor": 0,
  "metadata": {
    "colab": {
      "provenance": [],
      "authorship_tag": "ABX9TyPfztQxEFqMOZneZ9fyEvgI",
      "include_colab_link": true
    },
    "kernelspec": {
      "name": "python3",
      "display_name": "Python 3"
    },
    "language_info": {
      "name": "python"
    }
  },
  "cells": [
    {
      "cell_type": "markdown",
      "metadata": {
        "id": "view-in-github",
        "colab_type": "text"
      },
      "source": [
        "<a href=\"https://colab.research.google.com/github/SaadARazzaq/Airfoil-SelfNoise-Predictor/blob/main/Airfoil%20Selfnoise%20Detection.ipynb\" target=\"_parent\"><img src=\"https://colab.research.google.com/assets/colab-badge.svg\" alt=\"Open In Colab\"/></a>"
      ]
    },
    {
      "cell_type": "markdown",
      "source": [
        "# **Objective:**"
      ],
      "metadata": {
        "id": "J3F-loJoAUcQ"
      }
    },
    {
      "cell_type": "markdown",
      "source": [
        "This dataset takes certain attributes like frequency and angle of attack and tries to predict sound pressure level of how loud it is"
      ],
      "metadata": {
        "id": "95mfGd7SAbQM"
      }
    },
    {
      "cell_type": "markdown",
      "source": [
        "### **Dataset Used: https://www.kaggle.com/datasets/fedesoriano/airfoil-selfnoise-dataset**"
      ],
      "metadata": {
        "id": "XmfZ7WAJAEg_"
      }
    },
    {
      "cell_type": "code",
      "execution_count": 3,
      "metadata": {
        "id": "-mcABUVq9WRj"
      },
      "outputs": [],
      "source": [
        "import numpy as np"
      ]
    },
    {
      "cell_type": "code",
      "source": [
        "import pandas as pd"
      ],
      "metadata": {
        "id": "v6C3SaF69iZN"
      },
      "execution_count": 4,
      "outputs": []
    },
    {
      "cell_type": "code",
      "source": [
        "df = pd.read_csv(\"AirfoilSelfNoise.csv\")"
      ],
      "metadata": {
        "id": "eI5aQW2x9lQN"
      },
      "execution_count": 6,
      "outputs": []
    },
    {
      "cell_type": "code",
      "source": [
        "df.head()"
      ],
      "metadata": {
        "colab": {
          "base_uri": "https://localhost:8080/",
          "height": 212
        },
        "id": "1aFH2UXbBCW7",
        "outputId": "2334d799-6a7f-4f17-99e0-f87896c9bf94"
      },
      "execution_count": 8,
      "outputs": [
        {
          "output_type": "execute_result",
          "data": {
            "text/plain": [
              "      f  alpha       c  U_infinity     delta     SSPL\n",
              "0   800    0.0  0.3048        71.3  0.002663  126.201\n",
              "1  1000    0.0  0.3048        71.3  0.002663  125.201\n",
              "2  1250    0.0  0.3048        71.3  0.002663  125.951\n",
              "3  1600    0.0  0.3048        71.3  0.002663  127.591\n",
              "4  2000    0.0  0.3048        71.3  0.002663  127.461"
            ],
            "text/html": [
              "\n",
              "  <div id=\"df-d6c6b65a-3515-4c3b-8de4-fa0690afc9af\">\n",
              "    <div class=\"colab-df-container\">\n",
              "      <div>\n",
              "<style scoped>\n",
              "    .dataframe tbody tr th:only-of-type {\n",
              "        vertical-align: middle;\n",
              "    }\n",
              "\n",
              "    .dataframe tbody tr th {\n",
              "        vertical-align: top;\n",
              "    }\n",
              "\n",
              "    .dataframe thead th {\n",
              "        text-align: right;\n",
              "    }\n",
              "</style>\n",
              "<table border=\"1\" class=\"dataframe\">\n",
              "  <thead>\n",
              "    <tr style=\"text-align: right;\">\n",
              "      <th></th>\n",
              "      <th>f</th>\n",
              "      <th>alpha</th>\n",
              "      <th>c</th>\n",
              "      <th>U_infinity</th>\n",
              "      <th>delta</th>\n",
              "      <th>SSPL</th>\n",
              "    </tr>\n",
              "  </thead>\n",
              "  <tbody>\n",
              "    <tr>\n",
              "      <th>0</th>\n",
              "      <td>800</td>\n",
              "      <td>0.0</td>\n",
              "      <td>0.3048</td>\n",
              "      <td>71.3</td>\n",
              "      <td>0.002663</td>\n",
              "      <td>126.201</td>\n",
              "    </tr>\n",
              "    <tr>\n",
              "      <th>1</th>\n",
              "      <td>1000</td>\n",
              "      <td>0.0</td>\n",
              "      <td>0.3048</td>\n",
              "      <td>71.3</td>\n",
              "      <td>0.002663</td>\n",
              "      <td>125.201</td>\n",
              "    </tr>\n",
              "    <tr>\n",
              "      <th>2</th>\n",
              "      <td>1250</td>\n",
              "      <td>0.0</td>\n",
              "      <td>0.3048</td>\n",
              "      <td>71.3</td>\n",
              "      <td>0.002663</td>\n",
              "      <td>125.951</td>\n",
              "    </tr>\n",
              "    <tr>\n",
              "      <th>3</th>\n",
              "      <td>1600</td>\n",
              "      <td>0.0</td>\n",
              "      <td>0.3048</td>\n",
              "      <td>71.3</td>\n",
              "      <td>0.002663</td>\n",
              "      <td>127.591</td>\n",
              "    </tr>\n",
              "    <tr>\n",
              "      <th>4</th>\n",
              "      <td>2000</td>\n",
              "      <td>0.0</td>\n",
              "      <td>0.3048</td>\n",
              "      <td>71.3</td>\n",
              "      <td>0.002663</td>\n",
              "      <td>127.461</td>\n",
              "    </tr>\n",
              "  </tbody>\n",
              "</table>\n",
              "</div>\n",
              "      <button class=\"colab-df-convert\" onclick=\"convertToInteractive('df-d6c6b65a-3515-4c3b-8de4-fa0690afc9af')\"\n",
              "              title=\"Convert this dataframe to an interactive table.\"\n",
              "              style=\"display:none;\">\n",
              "        \n",
              "  <svg xmlns=\"http://www.w3.org/2000/svg\" height=\"24px\"viewBox=\"0 0 24 24\"\n",
              "       width=\"24px\">\n",
              "    <path d=\"M0 0h24v24H0V0z\" fill=\"none\"/>\n",
              "    <path d=\"M18.56 5.44l.94 2.06.94-2.06 2.06-.94-2.06-.94-.94-2.06-.94 2.06-2.06.94zm-11 1L8.5 8.5l.94-2.06 2.06-.94-2.06-.94L8.5 2.5l-.94 2.06-2.06.94zm10 10l.94 2.06.94-2.06 2.06-.94-2.06-.94-.94-2.06-.94 2.06-2.06.94z\"/><path d=\"M17.41 7.96l-1.37-1.37c-.4-.4-.92-.59-1.43-.59-.52 0-1.04.2-1.43.59L10.3 9.45l-7.72 7.72c-.78.78-.78 2.05 0 2.83L4 21.41c.39.39.9.59 1.41.59.51 0 1.02-.2 1.41-.59l7.78-7.78 2.81-2.81c.8-.78.8-2.07 0-2.86zM5.41 20L4 18.59l7.72-7.72 1.47 1.35L5.41 20z\"/>\n",
              "  </svg>\n",
              "      </button>\n",
              "      \n",
              "  <style>\n",
              "    .colab-df-container {\n",
              "      display:flex;\n",
              "      flex-wrap:wrap;\n",
              "      gap: 12px;\n",
              "    }\n",
              "\n",
              "    .colab-df-convert {\n",
              "      background-color: #E8F0FE;\n",
              "      border: none;\n",
              "      border-radius: 50%;\n",
              "      cursor: pointer;\n",
              "      display: none;\n",
              "      fill: #1967D2;\n",
              "      height: 32px;\n",
              "      padding: 0 0 0 0;\n",
              "      width: 32px;\n",
              "    }\n",
              "\n",
              "    .colab-df-convert:hover {\n",
              "      background-color: #E2EBFA;\n",
              "      box-shadow: 0px 1px 2px rgba(60, 64, 67, 0.3), 0px 1px 3px 1px rgba(60, 64, 67, 0.15);\n",
              "      fill: #174EA6;\n",
              "    }\n",
              "\n",
              "    [theme=dark] .colab-df-convert {\n",
              "      background-color: #3B4455;\n",
              "      fill: #D2E3FC;\n",
              "    }\n",
              "\n",
              "    [theme=dark] .colab-df-convert:hover {\n",
              "      background-color: #434B5C;\n",
              "      box-shadow: 0px 1px 3px 1px rgba(0, 0, 0, 0.15);\n",
              "      filter: drop-shadow(0px 1px 2px rgba(0, 0, 0, 0.3));\n",
              "      fill: #FFFFFF;\n",
              "    }\n",
              "  </style>\n",
              "\n",
              "      <script>\n",
              "        const buttonEl =\n",
              "          document.querySelector('#df-d6c6b65a-3515-4c3b-8de4-fa0690afc9af button.colab-df-convert');\n",
              "        buttonEl.style.display =\n",
              "          google.colab.kernel.accessAllowed ? 'block' : 'none';\n",
              "\n",
              "        async function convertToInteractive(key) {\n",
              "          const element = document.querySelector('#df-d6c6b65a-3515-4c3b-8de4-fa0690afc9af');\n",
              "          const dataTable =\n",
              "            await google.colab.kernel.invokeFunction('convertToInteractive',\n",
              "                                                     [key], {});\n",
              "          if (!dataTable) return;\n",
              "\n",
              "          const docLinkHtml = 'Like what you see? Visit the ' +\n",
              "            '<a target=\"_blank\" href=https://colab.research.google.com/notebooks/data_table.ipynb>data table notebook</a>'\n",
              "            + ' to learn more about interactive tables.';\n",
              "          element.innerHTML = '';\n",
              "          dataTable['output_type'] = 'display_data';\n",
              "          await google.colab.output.renderOutput(dataTable, element);\n",
              "          const docLink = document.createElement('div');\n",
              "          docLink.innerHTML = docLinkHtml;\n",
              "          element.appendChild(docLink);\n",
              "        }\n",
              "      </script>\n",
              "    </div>\n",
              "  </div>\n",
              "  "
            ]
          },
          "metadata": {},
          "execution_count": 8
        }
      ]
    },
    {
      "cell_type": "code",
      "source": [
        "df.info()"
      ],
      "metadata": {
        "colab": {
          "base_uri": "https://localhost:8080/"
        },
        "id": "ri1nm8OnBhCP",
        "outputId": "8838cd1a-1c69-488b-8b65-72c7454fb8ee"
      },
      "execution_count": 11,
      "outputs": [
        {
          "output_type": "stream",
          "name": "stdout",
          "text": [
            "<class 'pandas.core.frame.DataFrame'>\n",
            "RangeIndex: 1503 entries, 0 to 1502\n",
            "Data columns (total 6 columns):\n",
            " #   Column      Non-Null Count  Dtype  \n",
            "---  ------      --------------  -----  \n",
            " 0   f           1503 non-null   int64  \n",
            " 1   alpha       1503 non-null   float64\n",
            " 2   c           1503 non-null   float64\n",
            " 3   U_infinity  1503 non-null   float64\n",
            " 4   delta       1503 non-null   float64\n",
            " 5   SSPL        1503 non-null   float64\n",
            "dtypes: float64(5), int64(1)\n",
            "memory usage: 70.6 KB\n"
          ]
        }
      ]
    },
    {
      "cell_type": "code",
      "source": [
        "# get inputs\n",
        "inputs = df[['f', 'alpha', 'c', 'U_infinity', 'delta']].values"
      ],
      "metadata": {
        "id": "OcSz8DqdBvyr"
      },
      "execution_count": 15,
      "outputs": []
    },
    {
      "cell_type": "code",
      "source": [
        "# get output\n",
        "output = df[['SSPL']].values"
      ],
      "metadata": {
        "id": "JmAML8yPDDID"
      },
      "execution_count": 16,
      "outputs": []
    },
    {
      "cell_type": "code",
      "source": [
        "from sklearn.model_selection import train_test_split"
      ],
      "metadata": {
        "id": "6vGFbg69DTa-"
      },
      "execution_count": 17,
      "outputs": []
    },
    {
      "cell_type": "code",
      "source": [
        "X_train, X_test, y_train, y_test = train_test_split(inputs, output, test_size=0.33)"
      ],
      "metadata": {
        "id": "v-o0NbpkDbik"
      },
      "execution_count": 18,
      "outputs": []
    },
    {
      "cell_type": "code",
      "source": [
        "from sklearn.linear_model import LinearRegression"
      ],
      "metadata": {
        "id": "PozFp-iuDxLw"
      },
      "execution_count": 19,
      "outputs": []
    },
    {
      "cell_type": "code",
      "source": [
        "model = LinearRegression()"
      ],
      "metadata": {
        "id": "pSufbglGD3kF"
      },
      "execution_count": 20,
      "outputs": []
    },
    {
      "cell_type": "code",
      "source": [
        "model.fit(X_train, y_train)"
      ],
      "metadata": {
        "colab": {
          "base_uri": "https://localhost:8080/",
          "height": 74
        },
        "id": "pGv5xAAXD-82",
        "outputId": "80685fe7-e4a8-4fc9-f973-b993f1a96dbe"
      },
      "execution_count": 21,
      "outputs": [
        {
          "output_type": "execute_result",
          "data": {
            "text/plain": [
              "LinearRegression()"
            ],
            "text/html": [
              "<style>#sk-container-id-1 {color: black;background-color: white;}#sk-container-id-1 pre{padding: 0;}#sk-container-id-1 div.sk-toggleable {background-color: white;}#sk-container-id-1 label.sk-toggleable__label {cursor: pointer;display: block;width: 100%;margin-bottom: 0;padding: 0.3em;box-sizing: border-box;text-align: center;}#sk-container-id-1 label.sk-toggleable__label-arrow:before {content: \"▸\";float: left;margin-right: 0.25em;color: #696969;}#sk-container-id-1 label.sk-toggleable__label-arrow:hover:before {color: black;}#sk-container-id-1 div.sk-estimator:hover label.sk-toggleable__label-arrow:before {color: black;}#sk-container-id-1 div.sk-toggleable__content {max-height: 0;max-width: 0;overflow: hidden;text-align: left;background-color: #f0f8ff;}#sk-container-id-1 div.sk-toggleable__content pre {margin: 0.2em;color: black;border-radius: 0.25em;background-color: #f0f8ff;}#sk-container-id-1 input.sk-toggleable__control:checked~div.sk-toggleable__content {max-height: 200px;max-width: 100%;overflow: auto;}#sk-container-id-1 input.sk-toggleable__control:checked~label.sk-toggleable__label-arrow:before {content: \"▾\";}#sk-container-id-1 div.sk-estimator input.sk-toggleable__control:checked~label.sk-toggleable__label {background-color: #d4ebff;}#sk-container-id-1 div.sk-label input.sk-toggleable__control:checked~label.sk-toggleable__label {background-color: #d4ebff;}#sk-container-id-1 input.sk-hidden--visually {border: 0;clip: rect(1px 1px 1px 1px);clip: rect(1px, 1px, 1px, 1px);height: 1px;margin: -1px;overflow: hidden;padding: 0;position: absolute;width: 1px;}#sk-container-id-1 div.sk-estimator {font-family: monospace;background-color: #f0f8ff;border: 1px dotted black;border-radius: 0.25em;box-sizing: border-box;margin-bottom: 0.5em;}#sk-container-id-1 div.sk-estimator:hover {background-color: #d4ebff;}#sk-container-id-1 div.sk-parallel-item::after {content: \"\";width: 100%;border-bottom: 1px solid gray;flex-grow: 1;}#sk-container-id-1 div.sk-label:hover label.sk-toggleable__label {background-color: #d4ebff;}#sk-container-id-1 div.sk-serial::before {content: \"\";position: absolute;border-left: 1px solid gray;box-sizing: border-box;top: 0;bottom: 0;left: 50%;z-index: 0;}#sk-container-id-1 div.sk-serial {display: flex;flex-direction: column;align-items: center;background-color: white;padding-right: 0.2em;padding-left: 0.2em;position: relative;}#sk-container-id-1 div.sk-item {position: relative;z-index: 1;}#sk-container-id-1 div.sk-parallel {display: flex;align-items: stretch;justify-content: center;background-color: white;position: relative;}#sk-container-id-1 div.sk-item::before, #sk-container-id-1 div.sk-parallel-item::before {content: \"\";position: absolute;border-left: 1px solid gray;box-sizing: border-box;top: 0;bottom: 0;left: 50%;z-index: -1;}#sk-container-id-1 div.sk-parallel-item {display: flex;flex-direction: column;z-index: 1;position: relative;background-color: white;}#sk-container-id-1 div.sk-parallel-item:first-child::after {align-self: flex-end;width: 50%;}#sk-container-id-1 div.sk-parallel-item:last-child::after {align-self: flex-start;width: 50%;}#sk-container-id-1 div.sk-parallel-item:only-child::after {width: 0;}#sk-container-id-1 div.sk-dashed-wrapped {border: 1px dashed gray;margin: 0 0.4em 0.5em 0.4em;box-sizing: border-box;padding-bottom: 0.4em;background-color: white;}#sk-container-id-1 div.sk-label label {font-family: monospace;font-weight: bold;display: inline-block;line-height: 1.2em;}#sk-container-id-1 div.sk-label-container {text-align: center;}#sk-container-id-1 div.sk-container {/* jupyter's `normalize.less` sets `[hidden] { display: none; }` but bootstrap.min.css set `[hidden] { display: none !important; }` so we also need the `!important` here to be able to override the default hidden behavior on the sphinx rendered scikit-learn.org. See: https://github.com/scikit-learn/scikit-learn/issues/21755 */display: inline-block !important;position: relative;}#sk-container-id-1 div.sk-text-repr-fallback {display: none;}</style><div id=\"sk-container-id-1\" class=\"sk-top-container\"><div class=\"sk-text-repr-fallback\"><pre>LinearRegression()</pre><b>In a Jupyter environment, please rerun this cell to show the HTML representation or trust the notebook. <br />On GitHub, the HTML representation is unable to render, please try loading this page with nbviewer.org.</b></div><div class=\"sk-container\" hidden><div class=\"sk-item\"><div class=\"sk-estimator sk-toggleable\"><input class=\"sk-toggleable__control sk-hidden--visually\" id=\"sk-estimator-id-1\" type=\"checkbox\" checked><label for=\"sk-estimator-id-1\" class=\"sk-toggleable__label sk-toggleable__label-arrow\">LinearRegression</label><div class=\"sk-toggleable__content\"><pre>LinearRegression()</pre></div></div></div></div></div>"
            ]
          },
          "metadata": {},
          "execution_count": 21
        }
      ]
    },
    {
      "cell_type": "markdown",
      "source": [
        "### **Remember the below scores are NOT our accuracy but are the values of the R^2**"
      ],
      "metadata": {
        "id": "hOcYDMPUErgV"
      }
    },
    {
      "cell_type": "code",
      "source": [
        "print(end=\"Our Train Score is: \")\n",
        "model.score(X_train, y_train)"
      ],
      "metadata": {
        "colab": {
          "base_uri": "https://localhost:8080/"
        },
        "id": "FMUfjBSSEHw4",
        "outputId": "3520f012-4369-4dc9-a39c-1b44676d44c3"
      },
      "execution_count": 22,
      "outputs": [
        {
          "output_type": "stream",
          "name": "stdout",
          "text": [
            "Our Train Score is: "
          ]
        },
        {
          "output_type": "execute_result",
          "data": {
            "text/plain": [
              "0.5118260449049628"
            ]
          },
          "metadata": {},
          "execution_count": 22
        }
      ]
    },
    {
      "cell_type": "code",
      "source": [
        "print(end=\"Our Test Score is: \")\n",
        "model.score(X_test, y_test)"
      ],
      "metadata": {
        "colab": {
          "base_uri": "https://localhost:8080/"
        },
        "id": "tTKerh1IEgEw",
        "outputId": "3fee991a-a254-4bac-b841-b479f6f5167a"
      },
      "execution_count": 23,
      "outputs": [
        {
          "output_type": "stream",
          "name": "stdout",
          "text": [
            "Our Test Score is: "
          ]
        },
        {
          "output_type": "execute_result",
          "data": {
            "text/plain": [
              "0.5206423441601634"
            ]
          },
          "metadata": {},
          "execution_count": 23
        }
      ]
    },
    {
      "cell_type": "code",
      "source": [
        "prediction = model.predict(X_test)"
      ],
      "metadata": {
        "id": "Dk4omlspEnBw"
      },
      "execution_count": 24,
      "outputs": []
    },
    {
      "cell_type": "code",
      "source": [
        "prediction"
      ],
      "metadata": {
        "colab": {
          "base_uri": "https://localhost:8080/"
        },
        "id": "UPldGasfFAoe",
        "outputId": "aad91416-1569-437e-f5f5-4f17653e1cd4"
      },
      "execution_count": 25,
      "outputs": [
        {
          "output_type": "execute_result",
          "data": {
            "text/plain": [
              "array([[126.96839996],\n",
              "       [121.09799501],\n",
              "       [122.76098612],\n",
              "       [126.75484036],\n",
              "       [117.18803502],\n",
              "       [121.75650395],\n",
              "       [125.88814979],\n",
              "       [125.19610096],\n",
              "       [122.20251428],\n",
              "       [120.62403518],\n",
              "       [120.21091958],\n",
              "       [125.52897132],\n",
              "       [122.24112914],\n",
              "       [118.48843922],\n",
              "       [124.58116885],\n",
              "       [124.67658997],\n",
              "       [120.14902996],\n",
              "       [127.79259234],\n",
              "       [130.12198333],\n",
              "       [119.05399564],\n",
              "       [129.09493354],\n",
              "       [131.70267846],\n",
              "       [123.78809065],\n",
              "       [123.16771671],\n",
              "       [122.34468463],\n",
              "       [123.55282855],\n",
              "       [125.85265992],\n",
              "       [114.99094189],\n",
              "       [122.49131847],\n",
              "       [129.82355315],\n",
              "       [122.86949903],\n",
              "       [128.47192677],\n",
              "       [128.75205867],\n",
              "       [127.80988399],\n",
              "       [118.24282042],\n",
              "       [116.10984145],\n",
              "       [120.31022855],\n",
              "       [123.31837537],\n",
              "       [129.62135866],\n",
              "       [125.77102601],\n",
              "       [120.94583465],\n",
              "       [129.60342237],\n",
              "       [128.36512575],\n",
              "       [126.30087693],\n",
              "       [131.23052949],\n",
              "       [133.21015795],\n",
              "       [122.47818237],\n",
              "       [132.03874685],\n",
              "       [123.87325641],\n",
              "       [128.15786854],\n",
              "       [123.02508093],\n",
              "       [135.48166938],\n",
              "       [127.09675698],\n",
              "       [123.18089918],\n",
              "       [122.06214245],\n",
              "       [127.25871564],\n",
              "       [126.81894611],\n",
              "       [132.03943899],\n",
              "       [130.22103261],\n",
              "       [120.37456602],\n",
              "       [127.21569386],\n",
              "       [124.36253174],\n",
              "       [131.46172406],\n",
              "       [124.47196772],\n",
              "       [113.75915232],\n",
              "       [124.37851768],\n",
              "       [129.76584308],\n",
              "       [130.4989857 ],\n",
              "       [124.90659942],\n",
              "       [129.53338017],\n",
              "       [128.66591114],\n",
              "       [121.47866213],\n",
              "       [125.48867062],\n",
              "       [125.15384426],\n",
              "       [126.99360558],\n",
              "       [121.99931014],\n",
              "       [123.47246925],\n",
              "       [114.82613064],\n",
              "       [106.2504301 ],\n",
              "       [124.45214675],\n",
              "       [119.5846329 ],\n",
              "       [115.16766676],\n",
              "       [118.51237017],\n",
              "       [125.01095304],\n",
              "       [122.45468873],\n",
              "       [124.83266704],\n",
              "       [127.05860893],\n",
              "       [120.6776243 ],\n",
              "       [128.86588292],\n",
              "       [117.11746056],\n",
              "       [117.71546634],\n",
              "       [125.40387984],\n",
              "       [135.2304228 ],\n",
              "       [127.17655237],\n",
              "       [131.07467735],\n",
              "       [122.48503057],\n",
              "       [130.78961309],\n",
              "       [120.70326898],\n",
              "       [121.48416508],\n",
              "       [122.36896644],\n",
              "       [126.83032447],\n",
              "       [121.07723885],\n",
              "       [125.76038095],\n",
              "       [122.77383435],\n",
              "       [120.14489148],\n",
              "       [117.4676975 ],\n",
              "       [123.80704379],\n",
              "       [127.27555088],\n",
              "       [123.28603329],\n",
              "       [127.23789833],\n",
              "       [132.52952203],\n",
              "       [125.09392381],\n",
              "       [127.65242075],\n",
              "       [133.49941304],\n",
              "       [112.65520094],\n",
              "       [125.44846827],\n",
              "       [126.23986583],\n",
              "       [122.93384983],\n",
              "       [129.9174806 ],\n",
              "       [123.00782669],\n",
              "       [123.46983394],\n",
              "       [116.76689881],\n",
              "       [124.93944684],\n",
              "       [132.60355667],\n",
              "       [124.55166983],\n",
              "       [127.41959246],\n",
              "       [119.59569487],\n",
              "       [122.4577908 ],\n",
              "       [117.21356214],\n",
              "       [123.76486906],\n",
              "       [123.01963512],\n",
              "       [120.58313355],\n",
              "       [117.80972901],\n",
              "       [132.63444916],\n",
              "       [126.09177065],\n",
              "       [121.28917513],\n",
              "       [122.49458973],\n",
              "       [116.42389968],\n",
              "       [127.88482384],\n",
              "       [117.25519197],\n",
              "       [135.84836243],\n",
              "       [127.3721738 ],\n",
              "       [125.4370899 ],\n",
              "       [122.53185774],\n",
              "       [121.26635485],\n",
              "       [131.96246543],\n",
              "       [117.28441922],\n",
              "       [129.14891615],\n",
              "       [128.32674418],\n",
              "       [119.62992639],\n",
              "       [126.20006247],\n",
              "       [126.8013023 ],\n",
              "       [122.63578526],\n",
              "       [128.86262255],\n",
              "       [124.97758716],\n",
              "       [128.41403424],\n",
              "       [122.91221663],\n",
              "       [121.44953273],\n",
              "       [121.22879766],\n",
              "       [126.92710976],\n",
              "       [126.35322579],\n",
              "       [127.70597417],\n",
              "       [127.43671061],\n",
              "       [123.00431714],\n",
              "       [132.20530893],\n",
              "       [116.11306201],\n",
              "       [124.82739682],\n",
              "       [122.81586153],\n",
              "       [122.9010469 ],\n",
              "       [126.60978188],\n",
              "       [133.16886148],\n",
              "       [122.42633977],\n",
              "       [119.87592321],\n",
              "       [116.68042365],\n",
              "       [116.18739399],\n",
              "       [123.39669375],\n",
              "       [127.05811557],\n",
              "       [127.35431053],\n",
              "       [122.95623246],\n",
              "       [130.85242473],\n",
              "       [121.73541167],\n",
              "       [122.84199121],\n",
              "       [132.90642536],\n",
              "       [124.73940162],\n",
              "       [126.03034268],\n",
              "       [125.50295822],\n",
              "       [128.1979182 ],\n",
              "       [126.27056455],\n",
              "       [118.20865931],\n",
              "       [116.45923343],\n",
              "       [127.47918651],\n",
              "       [130.98491622],\n",
              "       [130.9648333 ],\n",
              "       [132.95314319],\n",
              "       [120.44376663],\n",
              "       [126.50359378],\n",
              "       [121.63079893],\n",
              "       [121.51427576],\n",
              "       [129.82834206],\n",
              "       [126.22164223],\n",
              "       [124.09089358],\n",
              "       [131.0972643 ],\n",
              "       [132.51346167],\n",
              "       [127.71818702],\n",
              "       [118.5523622 ],\n",
              "       [120.3118361 ],\n",
              "       [119.14777138],\n",
              "       [127.11424886],\n",
              "       [124.61924441],\n",
              "       [124.95659525],\n",
              "       [121.42483118],\n",
              "       [123.15229348],\n",
              "       [129.19021263],\n",
              "       [110.12130599],\n",
              "       [121.82935528],\n",
              "       [124.6268854 ],\n",
              "       [132.82301659],\n",
              "       [119.23913847],\n",
              "       [129.22566652],\n",
              "       [127.84397702],\n",
              "       [125.92770137],\n",
              "       [121.85006591],\n",
              "       [130.25814792],\n",
              "       [128.93472084],\n",
              "       [128.59120549],\n",
              "       [120.66843335],\n",
              "       [123.77077705],\n",
              "       [120.77498245],\n",
              "       [113.86428644],\n",
              "       [122.27134118],\n",
              "       [130.67589973],\n",
              "       [129.67628275],\n",
              "       [124.46430297],\n",
              "       [112.06043722],\n",
              "       [127.93714828],\n",
              "       [125.74985403],\n",
              "       [129.86551348],\n",
              "       [124.54373347],\n",
              "       [129.25736936],\n",
              "       [122.91758845],\n",
              "       [125.72820063],\n",
              "       [133.23599161],\n",
              "       [129.67834142],\n",
              "       [122.92965378],\n",
              "       [122.0200946 ],\n",
              "       [129.36707182],\n",
              "       [124.0291949 ],\n",
              "       [125.710335  ],\n",
              "       [127.94252011],\n",
              "       [123.89761134],\n",
              "       [126.61068995],\n",
              "       [125.79323048],\n",
              "       [121.03351452],\n",
              "       [123.44397799],\n",
              "       [117.17763942],\n",
              "       [120.37926908],\n",
              "       [127.77804404],\n",
              "       [123.9177287 ],\n",
              "       [125.45551328],\n",
              "       [119.12550184],\n",
              "       [113.25642846],\n",
              "       [129.92663645],\n",
              "       [124.81308271],\n",
              "       [121.99937264],\n",
              "       [125.7272133 ],\n",
              "       [128.80176701],\n",
              "       [123.65045949],\n",
              "       [126.7249312 ],\n",
              "       [131.38285205],\n",
              "       [119.85188196],\n",
              "       [134.1022129 ],\n",
              "       [124.59263417],\n",
              "       [130.49362994],\n",
              "       [122.20579164],\n",
              "       [120.96107907],\n",
              "       [122.46392716],\n",
              "       [124.33811024],\n",
              "       [119.53279521],\n",
              "       [127.89227672],\n",
              "       [125.4580809 ],\n",
              "       [127.72791073],\n",
              "       [126.38849034],\n",
              "       [124.94694577],\n",
              "       [122.11228154],\n",
              "       [121.95183714],\n",
              "       [117.94308923],\n",
              "       [126.58774271],\n",
              "       [123.48467851],\n",
              "       [125.88912046],\n",
              "       [128.97501177],\n",
              "       [128.18007302],\n",
              "       [107.67062699],\n",
              "       [127.28206962],\n",
              "       [125.02110198],\n",
              "       [128.13274029],\n",
              "       [114.57290305],\n",
              "       [122.00402431],\n",
              "       [125.53480886],\n",
              "       [119.76394684],\n",
              "       [131.88686819],\n",
              "       [122.89420058],\n",
              "       [130.9574791 ],\n",
              "       [112.84676345],\n",
              "       [123.0175889 ],\n",
              "       [126.52968487],\n",
              "       [118.51178869],\n",
              "       [124.55263553],\n",
              "       [127.14653764],\n",
              "       [126.33649612],\n",
              "       [128.53965753],\n",
              "       [131.58104742],\n",
              "       [124.90417325],\n",
              "       [121.13842789],\n",
              "       [121.9611052 ],\n",
              "       [119.32334488],\n",
              "       [121.90936737],\n",
              "       [123.32536715],\n",
              "       [119.27936464],\n",
              "       [130.44961411],\n",
              "       [124.30429629],\n",
              "       [124.0342183 ],\n",
              "       [125.15210145],\n",
              "       [128.36208549],\n",
              "       [130.21109355],\n",
              "       [127.06369823],\n",
              "       [127.4179547 ],\n",
              "       [127.95738435],\n",
              "       [128.10168753],\n",
              "       [125.08501701],\n",
              "       [124.72543251],\n",
              "       [121.97804733],\n",
              "       [121.34398098],\n",
              "       [129.77662609],\n",
              "       [119.12792801],\n",
              "       [127.85412513],\n",
              "       [115.80749328],\n",
              "       [120.73042534],\n",
              "       [125.10925621],\n",
              "       [119.061932  ],\n",
              "       [119.67318669],\n",
              "       [122.61799901],\n",
              "       [118.69985982],\n",
              "       [132.304029  ],\n",
              "       [125.59483714],\n",
              "       [116.67514626],\n",
              "       [124.96679613],\n",
              "       [122.7436223 ],\n",
              "       [123.63559536],\n",
              "       [122.43635038],\n",
              "       [114.04745274],\n",
              "       [119.74644956],\n",
              "       [123.23672023],\n",
              "       [120.48461707],\n",
              "       [133.96401306],\n",
              "       [124.14711512],\n",
              "       [131.074562  ],\n",
              "       [114.11555497],\n",
              "       [131.75521862],\n",
              "       [129.19034994],\n",
              "       [122.43447994],\n",
              "       [120.40512262],\n",
              "       [114.77332961],\n",
              "       [123.73441529],\n",
              "       [121.3167407 ],\n",
              "       [126.8455104 ],\n",
              "       [117.52785107],\n",
              "       [123.83133962],\n",
              "       [127.34148246],\n",
              "       [120.89826742],\n",
              "       [129.51893274],\n",
              "       [121.94163626],\n",
              "       [128.07299504],\n",
              "       [122.2918836 ],\n",
              "       [129.83102099],\n",
              "       [120.66975172],\n",
              "       [118.04217646],\n",
              "       [114.41443966],\n",
              "       [124.45410209],\n",
              "       [125.79793959],\n",
              "       [120.3997508 ],\n",
              "       [128.18334267],\n",
              "       [124.71453339],\n",
              "       [132.77324872],\n",
              "       [117.05201613],\n",
              "       [126.09955677],\n",
              "       [132.91761489],\n",
              "       [121.40112439],\n",
              "       [128.27838215],\n",
              "       [121.04810332],\n",
              "       [117.70996338],\n",
              "       [123.00943424],\n",
              "       [128.70111149],\n",
              "       [129.84173372],\n",
              "       [126.36891264],\n",
              "       [127.23264763],\n",
              "       [115.67015993],\n",
              "       [121.47157404],\n",
              "       [125.28542782],\n",
              "       [124.31785864],\n",
              "       [124.59642701],\n",
              "       [125.76807138],\n",
              "       [119.88176075],\n",
              "       [125.78648967],\n",
              "       [130.37938869],\n",
              "       [124.35831797],\n",
              "       [123.30652247],\n",
              "       [119.03994922],\n",
              "       [123.26986554],\n",
              "       [124.7538484 ],\n",
              "       [125.35681862],\n",
              "       [124.42022187],\n",
              "       [125.76721195],\n",
              "       [121.89617023],\n",
              "       [126.43557248],\n",
              "       [129.46256786],\n",
              "       [125.56073045],\n",
              "       [132.21466903],\n",
              "       [123.21858735],\n",
              "       [118.94001958],\n",
              "       [130.38885796],\n",
              "       [132.16506228],\n",
              "       [125.80886844],\n",
              "       [127.66631008],\n",
              "       [127.46548594],\n",
              "       [123.60457822],\n",
              "       [120.7920848 ],\n",
              "       [126.0224379 ],\n",
              "       [129.17378958],\n",
              "       [130.07356792],\n",
              "       [125.63475059],\n",
              "       [130.89361767],\n",
              "       [117.49482523],\n",
              "       [117.66266531],\n",
              "       [130.56353335],\n",
              "       [128.12591355],\n",
              "       [130.60921977],\n",
              "       [119.67529992],\n",
              "       [123.03927341],\n",
              "       [126.45442527],\n",
              "       [128.1264069 ],\n",
              "       [127.86692286],\n",
              "       [122.25891539],\n",
              "       [131.12300927],\n",
              "       [120.66820265],\n",
              "       [117.37778442],\n",
              "       [130.54559705],\n",
              "       [130.92217279],\n",
              "       [120.87705918],\n",
              "       [125.95800644],\n",
              "       [123.77698967],\n",
              "       [124.85990339],\n",
              "       [133.34607343],\n",
              "       [123.46919959],\n",
              "       [123.08948183],\n",
              "       [130.88889935],\n",
              "       [124.89218658],\n",
              "       [120.8861593 ],\n",
              "       [115.08281554],\n",
              "       [123.84385126],\n",
              "       [133.90385834],\n",
              "       [126.65208609],\n",
              "       [132.42958407],\n",
              "       [129.03220799],\n",
              "       [122.05948051],\n",
              "       [126.80304965],\n",
              "       [125.65459461],\n",
              "       [125.99714434],\n",
              "       [127.47185955],\n",
              "       [124.59053812],\n",
              "       [126.71024607],\n",
              "       [122.60136953],\n",
              "       [117.1889431 ],\n",
              "       [133.42371755],\n",
              "       [111.03380821],\n",
              "       [128.60848477],\n",
              "       [124.19922146],\n",
              "       [108.91985494],\n",
              "       [118.37860841],\n",
              "       [132.06518395],\n",
              "       [125.6387678 ],\n",
              "       [122.57297361],\n",
              "       [124.86738303],\n",
              "       [132.99606231],\n",
              "       [124.31882931],\n",
              "       [123.98403987],\n",
              "       [126.73028696],\n",
              "       [125.0531844 ],\n",
              "       [120.81661228],\n",
              "       [120.17513114],\n",
              "       [120.49185131],\n",
              "       [125.49998956],\n",
              "       [134.03703498],\n",
              "       [111.28152213],\n",
              "       [137.01542371],\n",
              "       [117.89153847],\n",
              "       [125.35326286]])"
            ]
          },
          "metadata": {},
          "execution_count": 25
        }
      ]
    },
    {
      "cell_type": "markdown",
      "source": [
        "## **Using RandomForest API To Solve the same Problem Now**"
      ],
      "metadata": {
        "id": "MsiarYxTFFPM"
      }
    },
    {
      "cell_type": "code",
      "source": [
        "from sklearn.ensemble import RandomForestRegressor"
      ],
      "metadata": {
        "id": "qqHZA91fFR0_"
      },
      "execution_count": 29,
      "outputs": []
    },
    {
      "cell_type": "code",
      "source": [
        "model2 = RandomForestRegressor()"
      ],
      "metadata": {
        "id": "smmYY1a_FZ_s"
      },
      "execution_count": 30,
      "outputs": []
    },
    {
      "cell_type": "code",
      "source": [
        "model2.fit(X_train, y_train)"
      ],
      "metadata": {
        "colab": {
          "base_uri": "https://localhost:8080/",
          "height": 130
        },
        "id": "qmp8AD2WFgZZ",
        "outputId": "8498cf70-b058-447a-8f6f-fa3ccf9c8dc4"
      },
      "execution_count": 31,
      "outputs": [
        {
          "output_type": "stream",
          "name": "stderr",
          "text": [
            "<ipython-input-31-a0f42c500d02>:1: DataConversionWarning: A column-vector y was passed when a 1d array was expected. Please change the shape of y to (n_samples,), for example using ravel().\n",
            "  model2.fit(X_train, y_train)\n"
          ]
        },
        {
          "output_type": "execute_result",
          "data": {
            "text/plain": [
              "RandomForestRegressor()"
            ],
            "text/html": [
              "<style>#sk-container-id-2 {color: black;background-color: white;}#sk-container-id-2 pre{padding: 0;}#sk-container-id-2 div.sk-toggleable {background-color: white;}#sk-container-id-2 label.sk-toggleable__label {cursor: pointer;display: block;width: 100%;margin-bottom: 0;padding: 0.3em;box-sizing: border-box;text-align: center;}#sk-container-id-2 label.sk-toggleable__label-arrow:before {content: \"▸\";float: left;margin-right: 0.25em;color: #696969;}#sk-container-id-2 label.sk-toggleable__label-arrow:hover:before {color: black;}#sk-container-id-2 div.sk-estimator:hover label.sk-toggleable__label-arrow:before {color: black;}#sk-container-id-2 div.sk-toggleable__content {max-height: 0;max-width: 0;overflow: hidden;text-align: left;background-color: #f0f8ff;}#sk-container-id-2 div.sk-toggleable__content pre {margin: 0.2em;color: black;border-radius: 0.25em;background-color: #f0f8ff;}#sk-container-id-2 input.sk-toggleable__control:checked~div.sk-toggleable__content {max-height: 200px;max-width: 100%;overflow: auto;}#sk-container-id-2 input.sk-toggleable__control:checked~label.sk-toggleable__label-arrow:before {content: \"▾\";}#sk-container-id-2 div.sk-estimator input.sk-toggleable__control:checked~label.sk-toggleable__label {background-color: #d4ebff;}#sk-container-id-2 div.sk-label input.sk-toggleable__control:checked~label.sk-toggleable__label {background-color: #d4ebff;}#sk-container-id-2 input.sk-hidden--visually {border: 0;clip: rect(1px 1px 1px 1px);clip: rect(1px, 1px, 1px, 1px);height: 1px;margin: -1px;overflow: hidden;padding: 0;position: absolute;width: 1px;}#sk-container-id-2 div.sk-estimator {font-family: monospace;background-color: #f0f8ff;border: 1px dotted black;border-radius: 0.25em;box-sizing: border-box;margin-bottom: 0.5em;}#sk-container-id-2 div.sk-estimator:hover {background-color: #d4ebff;}#sk-container-id-2 div.sk-parallel-item::after {content: \"\";width: 100%;border-bottom: 1px solid gray;flex-grow: 1;}#sk-container-id-2 div.sk-label:hover label.sk-toggleable__label {background-color: #d4ebff;}#sk-container-id-2 div.sk-serial::before {content: \"\";position: absolute;border-left: 1px solid gray;box-sizing: border-box;top: 0;bottom: 0;left: 50%;z-index: 0;}#sk-container-id-2 div.sk-serial {display: flex;flex-direction: column;align-items: center;background-color: white;padding-right: 0.2em;padding-left: 0.2em;position: relative;}#sk-container-id-2 div.sk-item {position: relative;z-index: 1;}#sk-container-id-2 div.sk-parallel {display: flex;align-items: stretch;justify-content: center;background-color: white;position: relative;}#sk-container-id-2 div.sk-item::before, #sk-container-id-2 div.sk-parallel-item::before {content: \"\";position: absolute;border-left: 1px solid gray;box-sizing: border-box;top: 0;bottom: 0;left: 50%;z-index: -1;}#sk-container-id-2 div.sk-parallel-item {display: flex;flex-direction: column;z-index: 1;position: relative;background-color: white;}#sk-container-id-2 div.sk-parallel-item:first-child::after {align-self: flex-end;width: 50%;}#sk-container-id-2 div.sk-parallel-item:last-child::after {align-self: flex-start;width: 50%;}#sk-container-id-2 div.sk-parallel-item:only-child::after {width: 0;}#sk-container-id-2 div.sk-dashed-wrapped {border: 1px dashed gray;margin: 0 0.4em 0.5em 0.4em;box-sizing: border-box;padding-bottom: 0.4em;background-color: white;}#sk-container-id-2 div.sk-label label {font-family: monospace;font-weight: bold;display: inline-block;line-height: 1.2em;}#sk-container-id-2 div.sk-label-container {text-align: center;}#sk-container-id-2 div.sk-container {/* jupyter's `normalize.less` sets `[hidden] { display: none; }` but bootstrap.min.css set `[hidden] { display: none !important; }` so we also need the `!important` here to be able to override the default hidden behavior on the sphinx rendered scikit-learn.org. See: https://github.com/scikit-learn/scikit-learn/issues/21755 */display: inline-block !important;position: relative;}#sk-container-id-2 div.sk-text-repr-fallback {display: none;}</style><div id=\"sk-container-id-2\" class=\"sk-top-container\"><div class=\"sk-text-repr-fallback\"><pre>RandomForestRegressor()</pre><b>In a Jupyter environment, please rerun this cell to show the HTML representation or trust the notebook. <br />On GitHub, the HTML representation is unable to render, please try loading this page with nbviewer.org.</b></div><div class=\"sk-container\" hidden><div class=\"sk-item\"><div class=\"sk-estimator sk-toggleable\"><input class=\"sk-toggleable__control sk-hidden--visually\" id=\"sk-estimator-id-2\" type=\"checkbox\" checked><label for=\"sk-estimator-id-2\" class=\"sk-toggleable__label sk-toggleable__label-arrow\">RandomForestRegressor</label><div class=\"sk-toggleable__content\"><pre>RandomForestRegressor()</pre></div></div></div></div></div>"
            ]
          },
          "metadata": {},
          "execution_count": 31
        }
      ]
    },
    {
      "cell_type": "code",
      "source": [
        "# evaluate the model's performance\n",
        "print(end=\"Our Train Score is: \")\n",
        "model2.score(X_train, y_train)"
      ],
      "metadata": {
        "colab": {
          "base_uri": "https://localhost:8080/"
        },
        "id": "thkVcQLZF059",
        "outputId": "30e2af5e-9c9a-48e4-89e5-2f293bc0262c"
      },
      "execution_count": 33,
      "outputs": [
        {
          "output_type": "stream",
          "name": "stdout",
          "text": [
            "Our Train Score is: "
          ]
        },
        {
          "output_type": "execute_result",
          "data": {
            "text/plain": [
              "0.9897976368402609"
            ]
          },
          "metadata": {},
          "execution_count": 33
        }
      ]
    },
    {
      "cell_type": "code",
      "source": [
        "print(end=\"Our Test Score is: \")\n",
        "model2.score(X_test, y_test)"
      ],
      "metadata": {
        "colab": {
          "base_uri": "https://localhost:8080/"
        },
        "id": "73h7yIOqGLXV",
        "outputId": "2b99a5b3-1416-4e4e-fbed-19536ef0dcce"
      },
      "execution_count": 34,
      "outputs": [
        {
          "output_type": "stream",
          "name": "stdout",
          "text": [
            "Our Test Score is: "
          ]
        },
        {
          "output_type": "execute_result",
          "data": {
            "text/plain": [
              "0.9220486604891743"
            ]
          },
          "metadata": {},
          "execution_count": 34
        }
      ]
    }
  ]
}